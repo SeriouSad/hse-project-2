{
 "cells": [
  {
   "metadata": {},
   "cell_type": "markdown",
   "source": "# Телеграм бот с применением RAG (Retrieval-Augmented Generation)",
   "id": "8a77807f92f26ee"
  },
  {
   "metadata": {
    "ExecuteTime": {
     "end_time": "2025-03-12T19:37:34.885881Z",
     "start_time": "2025-03-12T19:37:34.874724Z"
    }
   },
   "cell_type": "code",
   "source": [
    "import os\n",
    "from dotenv import load_dotenv\n",
    "load_dotenv()\n",
    "\n",
    "gigachat_token = os.getenv(\"GIGACHAT_TOKEN\")\n",
    "bot_token = os.getenv(\"BOT_TOKEN\")"
   ],
   "id": "2065abc5816ec042",
   "outputs": [],
   "execution_count": 15
  },
  {
   "metadata": {
    "ExecuteTime": {
     "end_time": "2025-03-12T19:38:07.894706Z",
     "start_time": "2025-03-12T19:38:03.007036Z"
    }
   },
   "cell_type": "code",
   "source": [
    "from langchain.vectorstores.chroma import Chroma\n",
    "from langchain_community.embeddings.huggingface import HuggingFaceEmbeddings\n",
    "from langchain_community.chat_models.gigachat import GigaChat\n",
    "import warnings\n",
    "warnings.filterwarnings('ignore')\n",
    "\n",
    "GPT = GigaChat(\n",
    "    credentials=gigachat_token,\n",
    "    scope=\"GIGACHAT_API_PERS\",\n",
    "    model=\"GigaChat\",\n",
    "    streaming=False,\n",
    "    verify_ssl_certs=False,\n",
    ")\n",
    "\n",
    "embeddings = HuggingFaceEmbeddings(\n",
    "    model_name = \"intfloat/multilingual-e5-large\"\n",
    ")"
   ],
   "id": "fbc121e30a2defb3",
   "outputs": [],
   "execution_count": 16
  },
  {
   "metadata": {
    "ExecuteTime": {
     "end_time": "2025-03-12T19:38:12.629861Z",
     "start_time": "2025-03-12T19:38:12.624862Z"
    }
   },
   "cell_type": "code",
   "source": [
    "doc = open('data/history.txt',encoding='utf-8').read()\n",
    "docs = doc.split(r\"\\\\\")\n",
    "print(f\"Всего фрагментов: {len(docs)}\")\n",
    "print(f\"Макс длина фрагмента: {max(map(len,docs))}\")"
   ],
   "id": "e38781b4ab633d1",
   "outputs": [
    {
     "name": "stdout",
     "output_type": "stream",
     "text": [
      "Всего фрагментов: 38\n",
      "Макс длина фрагмента: 1128\n"
     ]
    }
   ],
   "execution_count": 17
  },
  {
   "metadata": {
    "ExecuteTime": {
     "end_time": "2025-03-12T19:38:17.064583Z",
     "start_time": "2025-03-12T19:38:14.531956Z"
    }
   },
   "cell_type": "code",
   "source": [
    "res = embeddings.embed_documents(docs[0])\n",
    "print(f\"Длина эмбеддингов: {len(res[0])}\")"
   ],
   "id": "2f3513c174037c34",
   "outputs": [
    {
     "name": "stdout",
     "output_type": "stream",
     "text": [
      "Длина эмбеддингов: 1024\n"
     ]
    }
   ],
   "execution_count": 18
  },
  {
   "metadata": {
    "ExecuteTime": {
     "end_time": "2025-03-12T19:38:36.759710Z",
     "start_time": "2025-03-12T19:38:18.503090Z"
    }
   },
   "cell_type": "code",
   "source": [
    "db = Chroma('vecstore',embeddings,'./db')\n",
    "db.add_texts(docs)"
   ],
   "id": "2ace18c9cb8a415a",
   "outputs": [
    {
     "data": {
      "text/plain": [
       "['38f24426-8119-4846-a964-e1b979082162',\n",
       " '2ca496b4-5137-4b1e-8f24-9e7ac685484e',\n",
       " 'a541d47e-e9b2-4591-b093-7f9d87028212',\n",
       " '88ba2881-c2aa-4d3e-a4ea-9ddf1af7e006',\n",
       " '75a5921c-945a-4004-bcd9-13b4b4bbb43c',\n",
       " 'de0e9981-f247-43d1-8cc6-2f3adbcd7dfd',\n",
       " 'bb52506f-4364-4fdc-8bbb-1ea15c903c2d',\n",
       " 'ac1a299b-2ef4-4d93-af56-7a0493e463f8',\n",
       " 'e37ae758-b179-419a-8e17-e9fd21bcc5e8',\n",
       " '6a08b998-0955-4d68-9fe3-8fd2d08866e2',\n",
       " '733c3743-1a08-42ec-82d6-042f04a23dcf',\n",
       " '05cc072d-701e-4a96-b343-741b2b8725ec',\n",
       " 'b506fed3-11be-4fd8-8e79-6d1a807e78d2',\n",
       " 'e02a3f39-fc4d-4f80-bca2-d8e0cb3bc88c',\n",
       " '0fe8f90c-0dcb-4e20-a88f-478adb91fa2d',\n",
       " '487f3e8a-6760-4ddc-9133-e2c4f4e4eed4',\n",
       " '0f36d3ef-9638-4c4a-ae19-06fafd8f6658',\n",
       " '160e39f7-b88d-4160-9fab-0a049587ef32',\n",
       " '6c287f9c-bf9c-432a-9b6a-23e43229b49e',\n",
       " '90f4d8e1-ddb4-48b5-9caa-b8a0ff30f804',\n",
       " '526114fb-9e2c-49bf-940c-fa9819d42359',\n",
       " '1dc3a2f8-78b7-4210-a77d-de312fa08336',\n",
       " '5f6b85c9-602d-4bdc-aa25-9834b91bc280',\n",
       " '9a0d2663-3ce8-4769-936e-af32c20e1532',\n",
       " 'eb66899b-0866-4fa1-811b-be61b099cb9b',\n",
       " '7bda5042-7a0b-4746-a676-40fae5dc9154',\n",
       " 'da41a6b5-72e9-4efe-aeff-61edce974c54',\n",
       " 'af795dc2-abc4-41da-b55a-239da11f7538',\n",
       " 'ed9c20b4-6857-4b75-9b50-8c6eb071798d',\n",
       " '42e4fb57-16f9-40e2-b337-a98c53e0d651',\n",
       " 'fac196ca-7e05-46bc-8732-81df21e3d3b4',\n",
       " 'aedf13ee-023e-4d12-a0fc-97e3ff71a2b0',\n",
       " '9ff2f9f7-002e-4f27-a31c-8881aede5a03',\n",
       " '4fd21f7b-326d-4c26-8af1-27e0fdfce320',\n",
       " 'd4acbf6e-642f-4b56-93d9-6df07d579239',\n",
       " 'c8d8e4da-91e9-46b8-9756-2cef196c54c8',\n",
       " '99b79e80-8759-4773-bd18-fa3b79212ea2',\n",
       " 'a5bc88da-c028-4153-9717-7f6b74871727']"
      ]
     },
     "execution_count": 19,
     "metadata": {},
     "output_type": "execute_result"
    }
   ],
   "execution_count": 19
  },
  {
   "metadata": {
    "ExecuteTime": {
     "end_time": "2025-03-12T19:39:09.070040Z",
     "start_time": "2025-03-12T19:39:08.959041Z"
    }
   },
   "cell_type": "code",
   "source": [
    "q = \"сколько раз менялся император?\"\n",
    "\n",
    "retriever = db.as_retriever(search_kwargs={\"k\": 3 })\n",
    "retriever.invoke(q)"
   ],
   "id": "2ab88758d60a6ec5",
   "outputs": [
    {
     "data": {
      "text/plain": [
       "[Document(metadata={}, page_content='\\nКаковы были причины политической нестабильности после смерти Петра? Кто и каким образом занимал престол? Каково значение эпохи дворцовых переворотов в истории России?\\n'),\n",
       " Document(metadata={}, page_content='\\nКаковы были причины политической нестабильности после смерти Петра? Кто и каким образом занимал престол? Каково значение эпохи дворцовых переворотов в истории России?\\n'),\n",
       " Document(metadata={}, page_content='\\nПричины дворцовых переворотов\\nПосле смерти Петра I Россия вступила в эпоху дворцовых переворотов (1725–1762), длившуюся до воцарения Екатерины II. За эти 37 лет на престоле сменилась череда правителей, многие из которых правили всего несколько лет. Впрочем, их власть зачастую была весьма условной: Пётр II стал императором и самодержцем всероссийским в 11 лет, а Иван VI — в два месяца. Были на престоле и невежественные люди, которые едва ли имели представление о том, как нужно управлять государством. В таких ситуациях у кормила власти стоят ближайшие к монарху люди, его доверенные. Не случайно XVIII в. вошёл в историю как период фаворитизма. За период со смерти Петра I до воцарения Екатерины II на российском престоле сменилось шесть правителей, вместе с которыми на политической арене появлялись и исчезали их фавориты. Немногие из них после очередного дворцового переворота могли сохранить своё положение.\\n')]"
      ]
     },
     "execution_count": 20,
     "metadata": {},
     "output_type": "execute_result"
    }
   ],
   "execution_count": 20
  },
  {
   "metadata": {
    "ExecuteTime": {
     "end_time": "2025-03-12T19:39:14.858422Z",
     "start_time": "2025-03-12T19:39:11.356276Z"
    }
   },
   "cell_type": "code",
   "source": [
    "def answer(q):\n",
    "  res = retriever.invoke(q)\n",
    "  context = '\\n'.join(x.page_content for x in res)\n",
    "  prompt = f\"\"\"\n",
    "  Прочитай следующий текст и используй его при ответе на вопрос далее.\n",
    "  Используй только информацию из текста. Если в тексте нет ответа на данный вопрос,\n",
    "  напиши, что не знаешь. Вот текст:\\n{context}\\nВопрос: {q}. Используй формат оформления Markdown для форматирования в telegram\"\"\"\n",
    "  return GPT.invoke(prompt).content\n",
    "\n",
    "answer(q)"
   ],
   "id": "ce18e705adb56527",
   "outputs": [
    {
     "data": {
      "text/plain": [
       "'За период с момента смерти Петра I до восшествия на престол Екатерины II на российском троне сменилось **шесть** правителей.'"
      ]
     },
     "execution_count": 21,
     "metadata": {},
     "output_type": "execute_result"
    }
   ],
   "execution_count": 21
  },
  {
   "metadata": {
    "ExecuteTime": {
     "end_time": "2025-03-12T19:44:56.936713Z",
     "start_time": "2025-03-12T19:44:52.486308Z"
    }
   },
   "cell_type": "code",
   "source": [
    "import telebot\n",
    "\n",
    "bot = telebot.TeleBot(bot_token)\n",
    "\n",
    "# Обработчик команды /start\n",
    "@bot.message_handler(commands=['start'])\n",
    "def start(message):\n",
    "    # Отправляем приветственное сообщение\n",
    "    bot.send_message(message.chat.id,\n",
    "                     'Привет, я бот, который знает всё про дворцовые перевороты. Спрашивай!')\n",
    "\n",
    "# Обработчик для всех входящих сообщений\n",
    "@bot.message_handler(func=lambda message: True)\n",
    "def handle_message(message):\n",
    "    ans = answer(message.text)\n",
    "    bot.send_message(message.chat.id, ans, parse_mode='Markdown')\n",
    "\n",
    "# Запуск бота\n",
    "print(\"Бот готов к работе\")\n",
    "bot.polling(none_stop=True)"
   ],
   "id": "2dacfef777b8262d",
   "outputs": [
    {
     "name": "stdout",
     "output_type": "stream",
     "text": [
      "Бот готов к работе\n"
     ]
    }
   ],
   "execution_count": 23
  }
 ],
 "metadata": {
  "kernelspec": {
   "display_name": "Python 3",
   "language": "python",
   "name": "python3"
  },
  "language_info": {
   "codemirror_mode": {
    "name": "ipython",
    "version": 2
   },
   "file_extension": ".py",
   "mimetype": "text/x-python",
   "name": "python",
   "nbconvert_exporter": "python",
   "pygments_lexer": "ipython2",
   "version": "2.7.6"
  }
 },
 "nbformat": 4,
 "nbformat_minor": 5
}
